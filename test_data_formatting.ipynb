{
 "cells": [
  {
   "attachments": {},
   "cell_type": "markdown",
   "metadata": {},
   "source": [
    "# Formatting Annotations into Test Data Format  \n",
    "\n",
    "This script is to automatically format the transriptions with their annotations into the proper format that RASA accepts as training data."
   ]
  },
  {
   "attachments": {},
   "cell_type": "markdown",
   "metadata": {},
   "source": [
    "## Importing Completed Transcripts"
   ]
  },
  {
   "cell_type": "code",
   "execution_count": 46,
   "metadata": {},
   "outputs": [
    {
     "name": "stdout",
     "output_type": "stream",
     "text": [
      "['transcript_10.txt', 'transcript_22.txt', 'transcript_44.txt', 'transcript_56.txt']\n"
     ]
    }
   ],
   "source": [
    "# Array of names of transcripts with the \"Complete\" tag\n",
    "completedTranscripts = []\n",
    "\n",
    "# Going through all 115 transcript files\n",
    "for i in range(1, 116):\n",
    "    # Opening transcript files\n",
    "    fileName = \"transcript_\" + str(i) + \".txt\"\n",
    "    file = open(\"./data/transcripts/\" + fileName, \"r\")\n",
    "\n",
    "    # Parsing away the name\n",
    "    file.readline()\n",
    "\n",
    "    # Checking for \"Complete\" tag and appending file name if completed\n",
    "    complete = file.readline()[8:16]\n",
    "    if (complete == \"Complete\"):\n",
    "        completedTranscripts.append(fileName)\n",
    "\n",
    "    # Closing files\n",
    "    file.close()\n",
    "\n",
    "# Sanity Check\n",
    "print(completedTranscripts)"
   ]
  },
  {
   "attachments": {},
   "cell_type": "markdown",
   "metadata": {},
   "source": [
    "## Filtering and Sorting Different Annotations  \n",
    "\n",
    "**Possible Annotations:**\n",
    "- _[question]_\n",
    "- _[options]_\n",
    "- _[accept-answer]_\n",
    "- [offer-answer()]\n",
    "- [offer-to-answer]\n",
    "- [check-answer]\n",
    "- [agreement]\n",
    "- [ask-agreement]\n",
    "- [chit-chat]\n",
    "- [final-answer()]\n",
    "- [confirm-agreement]\n",
    "- [confirm-final-answer()]\n",
    "- [reject-option()]\n",
    "- [reject-option-agreement()]\n",
    "\n",
    "_Italic_ are host annotations only"
   ]
  },
  {
   "cell_type": "code",
   "execution_count": 47,
   "metadata": {},
   "outputs": [],
   "source": [
    "# Without Input\n",
    "question = [\"question\"]\n",
    "options = [\"options\"]\n",
    "accept_answer = [\"accept-answer\"]\n",
    "offer_to_answer = [\"offer-to-answer\"]\n",
    "check_answer = [\"check-answer\"]\n",
    "agreement = [\"agreement\"]\n",
    "ask_agreement = [\"ask-agreement\"]\n",
    "chit_chat = [\"chit-chat\"]\n",
    "confirm_agreement = [\"confirm-agreement\"]\n",
    "\n",
    "# With Input\n",
    "offer_answer = [\"offer-answer\"]\n",
    "final_answer = [\"final-answer\"]\n",
    "confirm_final_answer = [\"confirm-final-answer\"]\n",
    "reject_option = [\"reject-option\"]\n",
    "reject_option_agreement = [\"reject-option-agreement\"]\n",
    "\n",
    "for fileName in completedTranscripts:\n",
    "    file = open(\"./data/transcripts/\" + fileName, \"r\")\n",
    "    for i in range(0, 15):\n",
    "        file.readline()\n",
    "\n",
    "    for line in file:\n",
    "        if (line[0] == 'S'):\n",
    "            line = line[3:]\n",
    "        elif (line[0] == 'U'):\n",
    "            line = line[4:]\n",
    "\n",
    "        annotation = line[line.find(\n",
    "            '['):line.find(']') + 1].replace(\" \", \"\")[1:-1]\n",
    "\n",
    "        if (annotation == \"question\"):\n",
    "            question.append(line[:line.find(\"[\") - 1])\n",
    "        elif (annotation == \"options\"):\n",
    "            options.append(line[:line.find(\"[\") - 1])\n",
    "        elif (annotation == \"offer-to-answer\"):\n",
    "            offer_to_answer.append(line[:line.find(\"[\") - 1])\n",
    "        elif (annotation == \"check-answer\"):\n",
    "            check_answer.append(line[:line.find(\"[\") - 1])\n",
    "        elif (annotation == \"agreement\"):\n",
    "            agreement.append(line[:line.find(\"[\") - 1])\n",
    "        elif (annotation == \"ask-agreement\"):\n",
    "            ask_agreement.append(line[:line.find(\"[\") - 1])\n",
    "        elif (annotation == \"chit-chat\"):\n",
    "            chit_chat.append(line[:line.find(\"[\") - 1])\n",
    "        elif (annotation == \"accept-answer\"):\n",
    "            accept_answer.append(line[:line.find(\"[\") - 1])\n",
    "        elif (annotation == \"confirm-agreement\"):\n",
    "            confirm_agreement.append(line[:line.find(\"[\") - 1])\n",
    "        else:\n",
    "            annotationName = annotation[:annotation.find('(')]\n",
    "            if (annotationName == \"offer-answer\"):\n",
    "                offer_answer.append([line[:line.find(\n",
    "                    \"[\") - 1], annotation[annotation.find('(') + 1:annotation.find(')')]])\n",
    "            elif (annotationName == \"final-answer\"):\n",
    "                final_answer.append([line[:line.find(\n",
    "                    \"[\") - 1], annotation[annotation.find('(') + 1:annotation.find(')')]])\n",
    "            elif (annotationName == \"confirm-final-answer\"):\n",
    "                confirm_final_answer.append([line[:line.find(\n",
    "                    \"[\") - 1], annotation[annotation.find('(') + 1:annotation.find(')')]])\n",
    "            elif (annotationName == \"reject-option\"):\n",
    "                reject_option.append([line[:line.find(\n",
    "                    \"[\") - 1], annotation[annotation.find('(') + 1:annotation.find(')')]])\n",
    "            elif (annotationName == \"reject-option-agreement\"):\n",
    "                reject_option_agreement.append([line[:line.find(\n",
    "                    \"[\") - 1], annotation[annotation.find('(') + 1:annotation.find(')')]])\n",
    "\n",
    "    file.close()\n"
   ]
  },
  {
   "attachments": {},
   "cell_type": "markdown",
   "metadata": {},
   "source": [
    "## Writing the Annotation Examples into a YAML File"
   ]
  },
  {
   "cell_type": "code",
   "execution_count": 48,
   "metadata": {},
   "outputs": [],
   "source": [
    "trainingDataNoInput = [\n",
    "    offer_to_answer,\n",
    "    check_answer,\n",
    "    agreement,\n",
    "    ask_agreement,\n",
    "    chit_chat,\n",
    "    confirm_agreement\n",
    "]\n",
    "\n",
    "trainingDataInput = [\n",
    "    offer_answer,\n",
    "    final_answer,\n",
    "    confirm_final_answer,\n",
    "    reject_option,\n",
    "    reject_option_agreement\n",
    "]\n",
    "\n",
    "file = open(\"./RASA_Training_Data/nlu.txt\", \"w\")\n",
    "file.write(\"version: \\\"3.1\\\"\\n\\nnlu:\\n\")\n",
    "\n",
    "for annotation in trainingDataNoInput:\n",
    "    file.write(\"- intent: \" + annotation.pop(0) + \"\\n  examples: |\\n\")\n",
    "    for example in annotation:\n",
    "        file.write(\"    - \" + example + \"\\n\")\n",
    "    file.write(\"\\n\")\n",
    "\n",
    "for annotation in trainingDataInput:\n",
    "    file.write(\"- intent: \" + annotation.pop(0) + \"\\n  examples: |\\n\")\n",
    "    for example in annotation:\n",
    "        example[0].replace(example[1], \"[\" + example[1] + \"]\")\n",
    "        file.write(\"    - \" + example[0] + \"\\n\")\n",
    "    file.write(\"\\n\")\n",
    "\n",
    "file.close()\n"
   ]
  }
 ],
 "metadata": {
  "kernelspec": {
   "display_name": "Python 3",
   "language": "python",
   "name": "python3"
  },
  "language_info": {
   "codemirror_mode": {
    "name": "ipython",
    "version": 3
   },
   "file_extension": ".py",
   "mimetype": "text/x-python",
   "name": "python",
   "nbconvert_exporter": "python",
   "pygments_lexer": "ipython3",
   "version": "3.11.1"
  },
  "orig_nbformat": 4,
  "vscode": {
   "interpreter": {
    "hash": "4cf7421125f24179b95e2c7baa70e66f2436afd0742d4df4d6b3d32c45f1ff8c"
   }
  }
 },
 "nbformat": 4,
 "nbformat_minor": 2
}
