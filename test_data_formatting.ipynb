{
 "cells": [
  {
   "attachments": {},
   "cell_type": "markdown",
   "metadata": {},
   "source": [
    "# Formatting Annotations into Test Data Format  \n",
    "\n",
    "This script is to automatically format the transriptions with their annotations into the proper format that RASA accepts as training data."
   ]
  },
  {
   "attachments": {},
   "cell_type": "markdown",
   "metadata": {},
   "source": [
    "## Importing Completed Transcripts"
   ]
  },
  {
   "cell_type": "code",
   "execution_count": 51,
   "metadata": {},
   "outputs": [
    {
     "name": "stdout",
     "output_type": "stream",
     "text": [
      "['transcript_10.txt', 'transcript_22.txt', 'transcript_44.txt', 'transcript_56.txt']\n"
     ]
    }
   ],
   "source": [
    "# Array of names of transcripts with the \"Complete\" tag\n",
    "completedTranscripts = []\n",
    "\n",
    "# Going through all 115 transcript files\n",
    "for i in range(1, 116):\n",
    "    # Opening transcript files\n",
    "    fileName = \"transcript_\" + str(i) + \".txt\"\n",
    "    file = open(\"./data/transcripts/\" + fileName, \"r\")\n",
    "\n",
    "    # Parsing away the name\n",
    "    file.readline()\n",
    "\n",
    "    # Checking for \"Complete\" tag and appending file name if completed\n",
    "    complete = file.readline()[8:16]\n",
    "    if (complete == \"Complete\"):\n",
    "        completedTranscripts.append(fileName)\n",
    "\n",
    "    # Closing files\n",
    "    file.close()\n",
    "\n",
    "# Sanity Check\n",
    "print(completedTranscripts)"
   ]
  },
  {
   "attachments": {},
   "cell_type": "markdown",
   "metadata": {},
   "source": [
    "## Filtering and Sorting Different Annotations  \n",
    "\n",
    "**Possible Annotations:**\n",
    "- [question] \n",
    "- [offer-answer()]\n",
    "- [options]\n",
    "- [offer-to-answer]\n",
    "- [check-answer]\n",
    "- [agreement]\n",
    "- [ask-agreement]\n",
    "- [chit-chat]\n",
    "- [accept-answer]\n",
    "- [final-answer()]\n",
    "- [confirm-agreement]\n",
    "- [confirm-final-answer()]\n",
    "- [reject-option()]\n",
    "- [reject-option-agreement()]"
   ]
  },
  {
   "cell_type": "code",
   "execution_count": 52,
   "metadata": {},
   "outputs": [
    {
     "name": "stdout",
     "output_type": "stream",
     "text": [
      "['Which of these cities is most associated with Robin Hood?', 'How many girls are there in the group Girls Aloud', 'Which of these politicians is the former MP for Chesterfield', 'Which of these colors does not appear on the national flag of Brazil?', \"question number one is on indepence. During which traditional event might you hear the shout it's behind you\", 'which of these items is most likely to be used for washing in the bathroom?', 'someone given an unwelcome responsibility is said to be left holding what?', 'Alan Whicker is best known for presenting TV programs on what subjects?', 'in 2005, you know this, Malcolm Glazer took control of which British football club?', 'what kind of drink is an americano?', 'the Australian Joan Sutherland was a leading figure in which branch of the arts?', 'Vermicide is a substance used to kill which creatures?', 'Vermicide', 'is a substance to kill which creatures?', 'which of these is a type of fabric?', 'what is the capital of the Italian region of Tuscany', 'who played professor peach in the 1969 film The Italian Job', 'in which field was sir Mortimer wheeler most famous?', \"what's the weather like if the day is described as nippy\", 'which term of endearment is also a word meaning expensive?', 'by what abbreviation of the name was Margaret Thatcher popularly known?', 'if you approach something with boldness and courage what are you said to grasp?', 'which department in a company is sometimes known as Human Resources?', 'who presents the ITV dating show love on a Saturday night?', 'which invaders of Britain are sometimes referred to as Danes', 'which word follows Palazzo to give the name of an item of clothing?', 'which of these countries shares a border with Russia?', 'in which sport do fielders wear one oversized glove for catching the ball?', 'which word goes in front of \"reaction\", \"gang\" and \"letter\" to make well-known phrases', 'what name is given to a costly ornamental building with no practical purpose', 'in cookery what name is given to a puree of stewed fruit mixed with cream or custard', 'which is the only four-legged animal to appear in the title of a Shakespeare play', 'which of these is a phrase for a piece of damning and irrefutable evidence in a criminal prosecution?', 'bikini atoll lies in which ocean?']\n",
      "['Nottingham, Leicester, Manchester, Oxford', 'Three, four , five, six', 'Tony Benn, Norman Tebbit, David Steel, Neil Kinnock', 'Green, yellow, red, blue', 'last night of the Proms, pantomime, university boat race, changing of the guard', 'gel on a shell, spray, oh what have we got here, sprach on a tray, foam on a comb, soap on a rope', 'his breath, the baby, his ground, the stage', 'books, cars, sports, travel', 'Celtic, Newcastle United, Bolton Wanderers, Manchester United', 'mineral water, coffee, hot chocolate, tea', 'architecture, fashion, opera, film', 'snails, worms, frogs, wasps', 'Annette, Georgette, Mariette, Suzette', 'Turin, Florence, Bologna, Genoa', 'Dick Emery, Charlie Drake, Norman Wisdom, Benny Hill', 'astronomy, medicine, acting, archeology', 'cold, wet, foggy, hot', 'dear, darling, honey, beloved', 'meg, peggy, maggie, marge', 'the bramble, the thorn, the nettle, the holly', 'account, marketing, personnel, information technology', 'Davina McCall, Ulrika Jonsson, Denise Van Outen, June Sarpong', 'Saxons, Romans, Spanish, Vikings', 'jacket, pants, shirt, boot', 'Switzerland, Germany, Slovakia, Liechtenstein', 'Pakistan, Nepal, Bangladesh, Mongolia', 'Winchester, Durham, London, Salisbury', 'Squash, Tennis, Snooker, Baseball', 'cable, chain, clamp, clasp', 'Colly, Nolly, Folly, Bolly', 'Fool, Fondue, Fricasse, fusilli', 'Horse, Rat, Lion, Shrew', 'smoking gun, smoking fish, smoking paper, smoking book', 'Atlantic, Pacific, Arctic, Indian']\n",
      "['You know this', 'I think', \"I was gonna say wasps, uhm, I don't know\", 'Florence is a different, uhm', 'My turn?']\n",
      "['Do you know this one?', 'Do you know?', 'Do you know this one?', 'Could it be wasps?', 'Or are we gonna go with worms?', \"region, isn't it?\", 'Oh, is it not?', 'It is Florence or Genoa and Genoa is likely north, quite a bit north of Florence', 'Do you know that', 'Is that where they did what, they did nuclear tests?']\n",
      "['It is Nottingham', 'Five people', 'Tony Benn', 'Red', 'Absolutely', \"it's 100 percent\", 'C. Red.', 'Yeah, I think so too', 'Yes', 'Travel.', \"It's Man United\", 'yeah, yeah I guess it is', \"Americano's got to be coffee\", \"I think it's opera, yeah\", 'Yeah', 'Ok', \"I'm happy to go with your\", 'No, absolutely', 'Yeah. Benny Hill', \"I think I'm right but I'm not a hundred percent sure but I think, I am prepared to take apart on that\", 'I do', 'yeah', 'yeah', 'the nettle yeah', 'uhum', \"I've got no idea with this but I'm very happy to go with what\", \"I'm sure it's Davina\", 'come on', 'yeah', 'go for it', 'yeah', \"yeah it's got to be\", 'yeah yep yeah', \"I'm happy to follow you on this one\", 'yeah', 'Yes', 'yeah', 'Yeah, I think so', 'Your turn', 'yeah, folly', 'Fool', 'Yeah, so was i', 'Shrew', 'yes', 'Smoking gun', \"If you're sure, Ross\", 'Yes I would go with you on that', 'I agree with Ross']\n",
      "[\"Not absolutely, well I don't know, what's your percentage of certainty\", 'Do you agree?', 'do you?', 'are you sure', 'Are you happy to go with it?', 'Are you sure? Cause it is your charity too.', \"Do you think you're right?\", 'final answer', \"it is one of two isn't it?\", 'do we?', 'Should we go', 'Shall we say final answer?', 'No, um, should we say Pacific, final answer?']\n",
      "['Question number one is for 500 pounds', 'Well', 'Somebody who robbed him', \"That's a very similar sort of question to unter den Linden isn't it really\", \"Let's see what, you got Cheryl Tweedy\", \"You've got the one called Nadine,\", \"You've got the ginger one, Miller,\", 'And the other two Nicola, Kimberly.', 'Yeah', \"Well hang on, he's got to agree\", \"You've got Cheryl Tweedy\", 'The ginger one', 'The ginger one, Nicola Roberts', \"Kimberly, Nadine, that's four.\", 'And Sarah Harding, yes', 'yeah Scotland or Cumbria', 'Tony Benn, Norman Tebbit, said it there you can imagine', 'Tony been talking about his persecutor', 'I say David Steele, Scotland, I say Neil Kinnock, Wales', 'Tony Benn, Norman Tebbit, hmm, Chesterfield?', 'His dad might have git him work up there though', \"John Thompson's plain\", \"Well, that's nice isn't it.\", 'Why so certain?', 'I can visualize it', \"Yeah, it's the bit of the green background and the yellow and the blue bits in the middle.\", \"Your knowledge of the Brazilian flag, it's probably like mine, sitting wondering the number of times they won the World Cup\", \"Exactly, I've watched that, I haven't watch Mary Poppins\", 'We should play this one', 'I think we should play this one', \"You're sure of this\", \"question number, it's for 200 quid.\", \"well I've never heard of an americano water\", 'Seb nodding happily', 'Nell, trust him?', 'That sounds very definite, yes', 'I am fewer', 'Nell, you have no clue', 'No', 'Nell, do what your mom said just smile', \"that's good\", 'uhm', \"Uhm, I'm really not sure about this\", \"I wouldn't like to guess either\", 'Uhm, no', \"Seb, you've had that face since a hundred quid\", \"Uh, I'm not, no, I don't know, I have no idea\", \"I wouldn't risk it on what I know about that\", \"But you're if you're sure, I'll back your judgements about that\", 'Oh my lord', 'Yeah', \"You're more likely to know than I am\", 'Georgette, Georgette', 'Ohh', \"Ih, Ih, It's not, hm-hm\", \"it's not Turin and it's not Bologna\", \"It's not Turin, it's not Bologna\", 'Tuscany, Toscana. I broke the world record in Florence. I should know this.', \"You should know this, shouldn't you?\", \"But I'm no absolutely certain, but it, I'm pretty sure it's Florence. But it's a lot to drop, isn't it? Sixteen down to one, and we got sixteen.\", 'It is, I suppose it depends on how positive we feel about it really, oh', 'I mean, it feels right', \"I don't know\", 'Seb is looking terribly pleased with life', \"I'm not sure but it's, it's uh, it's\", 'but uh, you do seem to know', 'Do you think?', 'Fantastic', \"We could drop to thirty-two and we've got 64 and it wasn't astronomy, certainly not acting I don't think was medicine.\", 'yes Mortimer wheeler is an archaeologist, was', 'yes, he, he is an archeologist, was', \"Nell, do you think it's right?\", 'Why?', \"Because he's a Lord\", 'I have no idea', \"one topic was you probably don't watch that much television\", 'so when you think Vikings you think', 'Nordic', 'and the boats and all sort of stuff Nordic, the Saxons what do you think of the Saxons?', 'Saxxone it is European', 'jacket palazzo pants palazzo shirt palazzo boot palazzo follows', \"no it's the other way around\", \"oh so it's palazzo jacket I was gonna say\", 'stay with me stay with me', 'I was gonna think palazzo jacket palazzo pants palazzo shirt palazzo boots', 'uhm', 'has Germany not got the World Cup in 2010, we bid we bid against Germany', 'where are we now in 2004', 'so when is the next world cup?', '2006', \"well actually even if they have got the next one they wouldn't have the euro\", \"they wouldn't have\", \"they wouldn't have the euro if they have got the world cup final, they wouldn't have it\", \"they are not neighbouring I dont' if that makes a difference\", 'and why would you go to Liechtenstein?', 'they only got one stadium', \"wasn't Liechtenstein the country that England played and they were drafting and it was gonna be\", \"it's whether it's Germany\", 'why?', 'because', \"because the Germans wouldn't share it with anybody\", \"I don't know like you but it's the logical answer\", \"yeah, doesn't mean it's the right answer\", 'no', \"it's worth 125,000 pounds\", \"That's tough, bishop of durham definitely isn't, I don't know that\", 'Teaming of the rat', 'I give up', 'I feel very strongly that I know, the', \"Because of the, it's where they did the nuclear tests in the, in the fifties and\", 'I think so', 'You see what I mean', 'um', 'Have you ever heard of it?', 'No', 'Why are you agreeing with him?', \"He's very bright, Ross\"]\n",
      "['That is a right answer', \"It's the right answer\", 'you just won $10,000', 'You just won 20,000', \"It's the right answer, you got 100 pounds\", 'The final answer, you said with great confidence. You got two hundred quid', \"It's the right answer! You got three hundred pounds\", \"It's the right answer, you got 500 pounds\", \"It's Man United, you got one thousand pounds\", \"It's the right answer, you got two thousand pounds\", \"It's the right answer, you've four thousand pounds\", \"It's the right answer, you got 8000 pounds\", 'Nell, you just won 16 thousand pounds', 'Be very pleased, you just one thirty-two thousand pounds', 'You just won 64,000 pounds', \"Yes, he's right you just won 125 thousand pounds\", \"it's the right answer you have 100 pounds, well played\", 'you have 200 pounds', 'you have 300 pounds', \"that's right you got 500 punds\", \"right answer you've got a thousand pounds\", \"that's the right answer you've got 2000 pounds\", \"it's the right answer\", \"it's the right answer\", \" you've just won 16,000 pounds\", 'You just won 64,000', 'You had 64,000 pounds, you just lost 32,000 pounds', \"Baseball, it's the right answer, you've got 200 pounds\", \"It's the right answer you've got 300 pounds\", '500 pounds, right answer', 'Right answer, 1000 pounds, well played', \"It's the right answer, you've got 2000 pounds\", \"It's the right answer, you've got 4,000 pounds\", \"It's the right answer, you've got 8,000 pounds\"]\n",
      "['Yes.', 'Final answer?', 'Final answer', 'Final answer?', 'Final answer?', 'Is that your final answer?', 'Final answer?', 'uhum', 'Final answer?', 'Final answer?', 'Final answer?']\n",
      "[[\"He might have visited the others but it's Nottingham, isn't it?\", 'nottingham'], [\"it's five Chris\", 'five'], ['Alright, five', 'five'], ['Kinnock?', 'neilkinnock'], ['My leanings are for Tony Ben', 'tonybenn'], ['Tony Benn? Tony Benn?', 'tonybenn'], ['Red', 'red'], ['Red', 'red'], [\"Well I think it's pantomime\", 'Pantomime'], [\"Well, it's got to be soap on a rope\", 'soaponarope'], ['the baby?', 'thebaby'], ['Travel?', 'travel'], [\"I think it's D\", 'manchesterunited'], [\"well, well, I've been thinking it's coffee\", 'coffee'], ['opera', 'opera'], [\"I'm, I've, I would have thought Georgette but that's just a first, you know\", 'georgette'], ['Ok, Georgette', 'georgette'], ['Oh, it is Florence then', 'florence'], [\"It's Florence.\", 'florence'], ['It is Florence', 'florence'], ['It is Florence', 'florence'], [\"I think it's Florence\", 'florence'], [\"It's Benny Hill\", 'bennyhill'], [\"I think, I think it's archeology\", 'archeology'], ['cold', 'cold'], ['pretty sure it is maggie', 'maggie'], [\"the nettle I'm sure\", 'nettle'], ['personnel?', 'personnel'], [\"but I'm pretty sure that's Davina\", 'DavinaMcCall'], ['so if it Nordic it is got to be the Vikings', 'Vikings'], ['palazzo pants?', 'pants'], [\"it's Switzerland isn't it?\", 'Switzerland'], ['Mongolia', 'mongolia'], [\"I'd be inclined to go with London\", 'London'], [\"Something doesn't ring true about the bishop of london\", 'london'], ['Baseball, baseball', 'baseball'], ['A glass of folly, folly', 'folly'], [\"Oh it's got to be Fool\", 'fool'], [\"it's uh, I was worried until we saw shrew\", 'shrew'], ['They usually talk about this in um, american presidential, campaigns, you know, the smoking gun, I think, is the thing', 'chit-chat'], [\"That's the one that I would automatically go for, but I think that's what it is\", 'smokinggun'], [\"I think it's pacific\", 'pacific']]\n",
      "[['Final answer?', 'nottingham'], ['Final answer?', 'five'], ['Final answer?', 'tonybenn'], ['Final answer?', 'red'], ['Yes, travel. Travel', 'travel'], ['Travel.', 'travel'], ['I think it has to be. Yes, it is my final answer', 'florence'], ['Benny Hill', 'bennyhill'], ['that would be dear', 'dear'], ['ome on then, Switzerland, final asnwer', 'Switzerland'], [\"We both think it's Mongolia\", 'mongolia'], ['Bishop of london', 'london'], ['Baseball', 'baseball'], ['chain', 'chain'], [\"It's uh, shrew\", 'shrew'], ['Smoking gun', 'smokinggun'], ['Pacific, final answer', 'pacific']]\n",
      "[['Final answer.', 'nottingham'], ['Yes', 'five'], ['Final answer.', 'tonybenn'], ['Final answer.', 'red'], ['Final answer.', 'red']]\n",
      "[[\"Well, it's not Manchester is it?\", 'manchester'], [\"I don't think it's David Steel\", 'davidsteel'], [\"No, I don't believe so\", 'neilkinnock'], [\"I don't think Norman Tebbit worked up north for an MP\", 'normantebbit'], [\"yeah yeah there is, but there ain't no red on there\", 'red'], [\"well it's not the Romans and it's not the Spanish is it?\", 'Romans,Spanish'], [\"well it's one of two is isn't it Switzerland or Germany surely\", 'Slovakia,Liechtenstein'], [\"it's not Slovakia because because it's too far\", 'Slovakia'], [\"we lost now and so I don't think it's Germany\", 'Germany'], [\"no I don't think it's Slovakia\", 'Slovakia'], [\"it's not Liechtenstein\", 'Liechtenstein'], [\"it's not Germany because Germany have got 2000 and they've got 2010 they wouldn't\", 'Germany'], ['Whenever they have to be a bishop, someone always talks about the bishop of Durham, so therefor I would assume that he is automatically a member of the house of lords', 'Durham'], ['So is Salisbury, so is Winchester', 'Salisbury,Winchester'], [\"I wish it was Bolly, but it's not\", 'bolly'], [\"It would be the pacific or the indian because I, I would stake the farm and the fact that it's not the atlantic or the arctic\", 'atlantic,arctic']]\n",
      "[['No', 'manchester'], [\"Yea, he's Scotland wasn't h\", 'davidsteel'], ['No red', 'red'], ['yeah', 'Durham']]\n"
     ]
    }
   ],
   "source": [
    "# Without Input\n",
    "question = []\n",
    "options = []\n",
    "offer_to_answer = []\n",
    "check_answer = []\n",
    "agreement = []\n",
    "ask_agreement = []\n",
    "chit_chat = []\n",
    "accept_answer = []\n",
    "confirm_agreement = []\n",
    "\n",
    "# With Input\n",
    "offer_answer = []\n",
    "final_answer = []\n",
    "confirm_final_answer = []\n",
    "reject_option = []\n",
    "reject_option_agreement = []\n",
    "\n",
    "for fileName in completedTranscripts:\n",
    "    file = open(\"./data/transcripts/\" + fileName, \"r\")\n",
    "    for i in range(0,15):\n",
    "        file.readline()\n",
    "\n",
    "    for line in file:\n",
    "        if (line[0] == 'S'):\n",
    "            line = line[3:]\n",
    "        elif (line[0] == 'U'):\n",
    "            line = line[4:]\n",
    "\n",
    "        annotation = line[line.find('['):line.find(']') + 1].replace(\" \", \"\")[1:-1]\n",
    "\n",
    "        if (annotation == \"question\"):\n",
    "            question.append(line[:line.find(\"[\") - 1])\n",
    "        elif (annotation == \"options\"):\n",
    "            options.append(line[:line.find(\"[\") - 1])\n",
    "        elif (annotation == \"offer-to-answer\"):\n",
    "            offer_to_answer.append(line[:line.find(\"[\") - 1])\n",
    "        elif (annotation == \"check-answer\"):\n",
    "            check_answer.append(line[:line.find(\"[\") - 1])\n",
    "        elif (annotation == \"agreement\"):\n",
    "            agreement.append(line[:line.find(\"[\") - 1])\n",
    "        elif (annotation == \"ask-agreement\"):\n",
    "            ask_agreement.append(line[:line.find(\"[\") - 1])\n",
    "        elif (annotation == \"chit-chat\"):\n",
    "            chit_chat.append(line[:line.find(\"[\") - 1])\n",
    "        elif (annotation == \"accept-answer\"):\n",
    "            accept_answer.append(line[:line.find(\"[\") - 1])\n",
    "        elif (annotation == \"confirm-agreement\"):\n",
    "            confirm_agreement.append(line[:line.find(\"[\") - 1])\n",
    "        else:\n",
    "            annotationName = annotation[:annotation.find('(')]\n",
    "            if (annotationName == \"offer-answer\"):\n",
    "                offer_answer.append([line[:line.find(\"[\") - 1], annotation[annotation.find('(') + 1:annotation.find(')')]])\n",
    "            elif (annotationName == \"final-answer\"):\n",
    "                final_answer.append([line[:line.find(\"[\") - 1], annotation[annotation.find('(') + 1:annotation.find(')')]])\n",
    "            elif (annotationName == \"confirm-final-answer\"):\n",
    "                confirm_final_answer.append([line[:line.find(\"[\") - 1], annotation[annotation.find('(') + 1:annotation.find(')')]])\n",
    "            elif (annotationName == \"reject-option\"):\n",
    "                reject_option.append([line[:line.find(\"[\") - 1], annotation[annotation.find('(') + 1:annotation.find(')')]])\n",
    "            elif (annotationName == \"reject-option-agreement\"):\n",
    "                reject_option_agreement.append([line[:line.find(\"[\") - 1], annotation[annotation.find('(') + 1:annotation.find(')')]])\n",
    "    file.close()\n",
    "\n",
    "\n",
    "    "
   ]
  }
 ],
 "metadata": {
  "kernelspec": {
   "display_name": "F21BC",
   "language": "python",
   "name": "python3"
  },
  "language_info": {
   "codemirror_mode": {
    "name": "ipython",
    "version": 3
   },
   "file_extension": ".py",
   "mimetype": "text/x-python",
   "name": "python",
   "nbconvert_exporter": "python",
   "pygments_lexer": "ipython3",
   "version": "3.9.13"
  },
  "orig_nbformat": 4,
  "vscode": {
   "interpreter": {
    "hash": "e301f179994a6cc4696bb1a697aabf365a0e561b8ee640f0fafd7f18f35040ab"
   }
  }
 },
 "nbformat": 4,
 "nbformat_minor": 2
}
