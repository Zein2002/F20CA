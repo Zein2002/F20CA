{
 "cells": [
  {
   "attachments": {},
   "cell_type": "markdown",
   "metadata": {},
   "source": [
    "# Formatting Annotations into Test Data Format  \n",
    "\n",
    "This script is to automatically format the transriptions with their annotations into the proper format that RASA accepts as training data."
   ]
  },
  {
   "attachments": {},
   "cell_type": "markdown",
   "metadata": {},
   "source": [
    "## Importing Completed Transcripts"
   ]
  },
  {
   "cell_type": "code",
   "execution_count": 1,
   "metadata": {},
   "outputs": [
    {
     "name": "stdout",
     "output_type": "stream",
     "text": [
      "Number of annotated transcripts: 14\n",
      "Annotated Transcripts:\n",
      " - transcript_1.txt\n",
      " - transcript_10.txt\n",
      " - transcript_22.txt\n",
      " - transcript_23.txt\n",
      " - transcript_24.txt\n",
      " - transcript_34.txt\n",
      " - transcript_35.txt\n",
      " - transcript_44.txt\n",
      " - transcript_54.txt\n",
      " - transcript_56.txt\n",
      " - transcript_74.txt\n",
      " - transcript_100.txt\n",
      " - transcript_101.txt\n",
      " - transcript_102.txt\n"
     ]
    }
   ],
   "source": [
    "# Array of names of transcripts with the \"Complete\" tag\n",
    "completedTranscripts = []\n",
    "\n",
    "# Going through all 115 transcript files\n",
    "for i in range(1, 116):\n",
    "    # Opening transcript files\n",
    "    fileName = \"transcript_\" + str(i) + \".txt\"\n",
    "    file = open(\"./data/transcripts/\" + fileName, \"r\")\n",
    "\n",
    "    # Parsing away the name\n",
    "    file.readline()\n",
    "\n",
    "    # Checking for \"Complete\" tag and appending file name if completed\n",
    "    complete = file.readline()[8:16]\n",
    "    if (complete == \"Complete\"):\n",
    "        completedTranscripts.append(fileName)\n",
    "\n",
    "    # Cleanup\n",
    "    file.close()\n",
    "\n",
    "# List of annotated transcripts\n",
    "print(\"Number of annotated transcripts:\", len(completedTranscripts))\n",
    "print(\"Annotated Transcripts:\")\n",
    "for i in completedTranscripts:\n",
    "    print(\" -\", i)"
   ]
  },
  {
   "attachments": {},
   "cell_type": "markdown",
   "metadata": {},
   "source": [
    "# Natural Language Understanding (NLU):"
   ]
  },
  {
   "attachments": {},
   "cell_type": "markdown",
   "metadata": {},
   "source": [
    "## Filtering and Sorting Different Annotations  \n",
    "\n",
    "**Possible Annotations:**  \n",
    "Robot to Users (only use these four for the robot + possibly [chit-chat]):  \n",
    "- _[question]_: Robot asking the question\n",
    "- _[options]_: Robot giving the answer options to the question\n",
    "- _[accept-answer]_: Robot confirming that it has received the answer\n",
    "- _[confirm-agreement]_: Robot asks if the users have agreed, eg. \"Final answer?\" \n",
    "\n",
    "User to Robot: \n",
    "- [final-answer()]: A user offering the final answer to the host (as opposed to the other person)\n",
    "- [confirm-final-answer()]: A user confirms to the robot that it is the final answer they want to submit \n",
    "\n",
    "User to User: \n",
    "- [offer-answer()]: One of the users offers a specific answer to the other user\n",
    "- [offer-to-answer]: One of the users says that they would like to answer (without providing a specific answer), eg. \"I think I know this one\" \n",
    "- [check-answer]: A user checks if the other user knows the answer, eg. \"You know this, right?\"\n",
    "- [agreement]: General agreement, eg. \"Yeah\"\n",
    "- [ask-agreement]: A user asking the other user for agreement, eg. \"Do you think so too?\"\n",
    "- [chit-chat]: Non-related talk between the users\n",
    "- [reject-option()]: A user eliminates one of the answer option, eg. \"It's definitely not Germany\" \n",
    "- [reject-option-agreement()]: A user agrees to reject an option, eg. \"Yeah, definitely not\""
   ]
  },
  {
   "cell_type": "code",
   "execution_count": 2,
   "metadata": {},
   "outputs": [],
   "source": [
    "# Without Input\n",
    "question = [\"question\"]\n",
    "options = [\"options\"]\n",
    "accept_answer = [\"accept-answer\"]\n",
    "offer_to_answer = [\"offer-to-answer\"]\n",
    "check_answer = [\"check-answer\"]\n",
    "agreement = [\"agreement\"]\n",
    "ask_agreement = [\"ask-agreement\"]\n",
    "chit_chat = [\"chit-chat\"]\n",
    "confirm_agreement = [\"confirm-agreement\"]\n",
    "\n",
    "# With Input\n",
    "offer_answer = [\"offer-answer\"]\n",
    "final_answer = [\"final-answer\"]\n",
    "confirm_final_answer = [\"confirm-final-answer\"]\n",
    "reject_option = [\"reject-option\"]\n",
    "reject_option_agreement = [\"reject-option-agreement\"]\n",
    "\n",
    "# For every file\n",
    "for fileName in completedTranscripts:\n",
    "    file = open(\"./data/transcripts/\" + fileName, \"r\")\n",
    "\n",
    "    # Parse the unimportant lines until \"Transcript\"\n",
    "    line = file.readline()\n",
    "    while (line[:28] != \"-------- Transcript --------\"):\n",
    "        line = file.readline()\n",
    "    file.readline()\n",
    "\n",
    "    # For every line in the transcript\n",
    "    for line in file:\n",
    "        # Remove the user and system tags\n",
    "        if (line[0] == 'S'):\n",
    "            line = line[3:]\n",
    "        elif (line[0] == 'U'):\n",
    "            line = line[4:]\n",
    "        else:\n",
    "            continue\n",
    "\n",
    "        # Extract the annotation\n",
    "        annotation = line[line.find(\n",
    "            '['):line.find(']') + 1].replace(\" \", \"\")[1:-1]\n",
    "        \n",
    "        # Match the annotation to its array\n",
    "        if (annotation == \"question\"):\n",
    "            question.append(line[:line.find(\"[\") - 1])\n",
    "        elif (annotation == \"options\"):\n",
    "            options.append(line[:line.find(\"[\") - 1])\n",
    "        elif (annotation == \"offer-to-answer\"):\n",
    "            offer_to_answer.append(line[:line.find(\"[\") - 1])\n",
    "        elif (annotation == \"check-answer\"):\n",
    "            check_answer.append(line[:line.find(\"[\") - 1])\n",
    "        elif (annotation == \"agreement\"):\n",
    "            agreement.append(line[:line.find(\"[\") - 1])\n",
    "        elif (annotation == \"ask-agreement\"):\n",
    "            ask_agreement.append(line[:line.find(\"[\") - 1])\n",
    "        elif (annotation == \"chit-chat\"):\n",
    "            chit_chat.append(line[:line.find(\"[\") - 1])\n",
    "        elif (annotation == \"accept-answer\"):\n",
    "            accept_answer.append(line[:line.find(\"[\") - 1])\n",
    "        elif (annotation == \"confirm-agreement\"):\n",
    "            confirm_agreement.append(line[:line.find(\"[\") - 1])\n",
    "        else:\n",
    "            # For annotations with inputs\n",
    "            annotationName = annotation[:annotation.find('(')]\n",
    "            if (annotationName == \"offer-answer\"):\n",
    "                offer_answer.append([line[:line.find(\n",
    "                    \"[\") - 1], annotation[annotation.find('(') + 1:annotation.find(')')]])\n",
    "            elif (annotationName == \"final-answer\"):\n",
    "                final_answer.append([line[:line.find(\n",
    "                    \"[\") - 1], annotation[annotation.find('(') + 1:annotation.find(')')]])\n",
    "            elif (annotationName == \"confirm-final-answer\"):\n",
    "                confirm_final_answer.append([line[:line.find(\n",
    "                    \"[\") - 1], annotation[annotation.find('(') + 1:annotation.find(')')]])\n",
    "            elif (annotationName == \"reject-option\"):\n",
    "                reject_option.append([line[:line.find(\n",
    "                    \"[\") - 1], annotation[annotation.find('(') + 1:annotation.find(')')]])\n",
    "            elif (annotationName == \"reject-option-agreement\"):\n",
    "                reject_option_agreement.append([line[:line.find(\n",
    "                    \"[\") - 1], annotation[annotation.find('(') + 1:annotation.find(')')]])\n",
    "                \n",
    "    # Cleanup\n",
    "    file.close()\n"
   ]
  },
  {
   "attachments": {},
   "cell_type": "markdown",
   "metadata": {},
   "source": [
    "## Writing the Annotation Examples into a YAML File"
   ]
  },
  {
   "cell_type": "code",
   "execution_count": 3,
   "metadata": {},
   "outputs": [],
   "source": [
    "# Annotations with inputs\n",
    "trainingDataNoInput = [\n",
    "    offer_to_answer,\n",
    "    check_answer,\n",
    "    agreement,\n",
    "    ask_agreement,\n",
    "    chit_chat\n",
    "]\n",
    "\n",
    "# Annotations without inputs\n",
    "trainingDataInput = [\n",
    "    offer_answer,\n",
    "    final_answer,\n",
    "    confirm_final_answer,\n",
    "    reject_option,\n",
    "    reject_option_agreement\n",
    "]\n",
    "\n",
    "# Create a new file and add the proper formatting to the beginning\n",
    "file = open(\"./RASA_Training_Data/nlu.txt\", \"w\")\n",
    "file.write(\"version: \\\"3.1\\\"\\n\\nnlu:\\n\")\n",
    "\n",
    "# Write all the examples of annotations to the file in the right format\n",
    "for annotation in trainingDataNoInput:\n",
    "    file.write(\"- intent: \" + annotation.pop(0) + \"\\n  examples: |\\n\")\n",
    "    for example in annotation:\n",
    "        file.write(\"    - \" + example + \"\\n\")\n",
    "    file.write(\"\\n\")\n",
    "\n",
    "# Write all the examples of annotations to the file in the right format with inputs as entities\n",
    "for annotation in trainingDataInput:\n",
    "    file.write(\"- intent: \" + annotation.pop(0) + \"\\n  examples: |\\n\")\n",
    "    for example in annotation:\n",
    "        example[0] = example[0].lower()\n",
    "        example[1] = example[1].lower()\n",
    "        example[0] = example[0].replace(example[1], \"[\" + example[1] + \"](answer)\")\n",
    "        file.write(\"    - \" + example[0] + \"\\n\")\n",
    "    file.write(\"\\n\")\n",
    "\n",
    "# Cleanup\n",
    "file.close()"
   ]
  },
  {
   "attachments": {},
   "cell_type": "markdown",
   "metadata": {},
   "source": [
    "# Dialogue Managment (Stories):"
   ]
  },
  {
   "attachments": {},
   "cell_type": "markdown",
   "metadata": {},
   "source": [
    "## Extracting Stories from Transcripts"
   ]
  },
  {
   "cell_type": "code",
   "execution_count": 4,
   "metadata": {},
   "outputs": [],
   "source": [
    "stories = []\n",
    "\n",
    "for fileName in completedTranscripts:\n",
    "    file = open(\"./data/transcripts/\" + fileName, \"r\")\n",
    "\n",
    "    # Parse the unimportant lines until \"Transcript\"\n",
    "    line = file.readline()\n",
    "    while (line[:28] != \"-------- Transcript --------\"):\n",
    "        line = file.readline()\n",
    "    file.readline()\n",
    "\n",
    "    # For every line in the transcript\n",
    "    for line in file:\n",
    "        # Extract the annotation\n",
    "        annotation = line[line.find(\n",
    "            '['):line.find(']') + 1].replace(\" \", \"\")[1:-1]\n",
    "    \n",
    "    # Cleanup\n",
    "    file.close()"
   ]
  }
 ],
 "metadata": {
  "kernelspec": {
   "display_name": "Python 3",
   "language": "python",
   "name": "python3"
  },
  "language_info": {
   "codemirror_mode": {
    "name": "ipython",
    "version": 3
   },
   "file_extension": ".py",
   "mimetype": "text/x-python",
   "name": "python",
   "nbconvert_exporter": "python",
   "pygments_lexer": "ipython3",
   "version": "3.11.1"
  },
  "orig_nbformat": 4,
  "vscode": {
   "interpreter": {
    "hash": "4cf7421125f24179b95e2c7baa70e66f2436afd0742d4df4d6b3d32c45f1ff8c"
   }
  }
 },
 "nbformat": 4,
 "nbformat_minor": 2
}
