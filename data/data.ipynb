{
 "cells": [
  {
   "cell_type": "code",
   "execution_count": null,
   "metadata": {},
   "outputs": [],
   "source": [
    "%pip install youtube-transcript-api\n",
    "from youtube_transcript_api import YouTubeTranscriptApi"
   ]
  },
  {
   "cell_type": "code",
   "execution_count": 22,
   "metadata": {},
   "outputs": [],
   "source": [
    "import pandas as pd\n",
    "  \n",
    "# read text file into pandas DataFrame\n",
    "df = pd.read_csv(\"youtube_ids.txt\", sep=\" \")\n",
    "\n",
    "df[\"yt_id\"] = df[\"youtube_link\"].str.split(\"v=\").str.get(1)\n",
    "\n",
    "id_array = df[\"yt_id\"].to_numpy()"
   ]
  },
  {
   "cell_type": "code",
   "execution_count": 43,
   "metadata": {},
   "outputs": [],
   "source": [
    "count = 0\n",
    "for i in id_array:\n",
    "    try: \n",
    "        text = YouTubeTranscriptApi.get_transcript(i)\n",
    "        df.loc[df[\"yt_id\"] == i, \"transcript\"]= True\n",
    "    except:\n",
    "        df.loc[df[\"yt_id\"] == i, \"transcript\"]= False\n",
    "\n",
    "    "
   ]
  },
  {
   "cell_type": "code",
   "execution_count": 46,
   "metadata": {},
   "outputs": [],
   "source": [
    "transcript_df = df.loc[df[\"transcript\"] == True]"
   ]
  },
  {
   "cell_type": "code",
   "execution_count": 53,
   "metadata": {},
   "outputs": [],
   "source": [
    "test_script = YouTubeTranscriptApi.get_transcript(df.iloc[100].yt_id)"
   ]
  },
  {
   "cell_type": "code",
   "execution_count": 76,
   "metadata": {},
   "outputs": [],
   "source": [
    "transcript_df = transcript_df.reset_index(drop=True)"
   ]
  },
  {
   "cell_type": "code",
   "execution_count": 93,
   "metadata": {},
   "outputs": [
    {
     "name": "stdout",
     "output_type": "stream",
     "text": [
      "['we carry on for 300 quid here comes in', 'which of these buildings is someone most', 'likely to make brass rubbings church', 'hospital theatre Factory', 'they cross Runnings', \"I know what I think it is but I'm not\", 'absolutely', \"raising oh I think I'm thinking maybe we\", 'ask', 'okay audience fun you keepers please', \"let's get Louis and Greg up to three on\", \"the path that's the question and which\", 'of these buildings is someone most', 'likely to make brass rubbings a B C or D', 'all vote now', 'seventy-five percent saying Church one', 'percent hospital four percent theater', 'and 27th in factory so-called doctor', \"with charity so it's right out you got\", 'the power', 'we got through in the parents question', 'number four is for 500 pounds here comes', 'what are the first names of the', 'comedians Hale and pace Gregory and Neil', 'Graham and Nicholas Gareth and Norman', 'Gustav and Neville as carefully', \"I'll have to take your word for gasps\", \"Norman fun let's so right out so you got\", '500 pounds last point you could go home', 'with nothing you still have both', 'lifelines 50/50 and phone-a-friend left', 'have a look at number five this will', 'guarantee you on Thursday a fault is a', 'chain usually attached to what packed', 'glove lamp watch', \"okay you just her I think it's the right\", 'answer', 'you got 1,000', 'are you feeling that very nervous', 'are you still yeah great I feel good you', \"got a thousand pounds you've got a fifty\", 'fifty you got a phone a friend have a', \"look at question number six it's for two\", 'thousand pounds which spoon has a', 'capacity of five millilitres when used', 'as a measure in cooking teaspoon dessert', 'spoon soup spoon tablespoon', 'who cooks in your house I do do you', 'Spence', 'I do', 'Tector which spoon has a capacity of 5', 'milliliters', 'when uses a major in cooking', \"and what I'm thinking actually is when\", 'we take medications take take it say to', 'take 10 milliliters which is like a club', 'full of that medicine bottle if you have', \"that but I'm not completely certain to\", 'be honest', 'she just throws things and be honest', \"I think it's gonna be cheese spoon\", 'because it tablespoon disaster you look', 'very similar in science agree with that', \"um yeah you just you wouldn't use ignore\", 'usually use them for permanency I think', 'we should do a spoon listen', 'yes yeah so right now so you got two', 'thousand times', 'number seven is for four thousand pounds', 'you could lose a thousand pounds he you', 'guarantee one thousand this would W', \"money question number seven you're nine\", 'away from a million which ballet term', 'comes from the French for spinning top', 'pirouette on Tricia jet a arabesque', \"I think it's a throw it would you turn\", 'in Bello but you did French time ago', \"again that's the one I would think is\", \"pirouette is turning round isn't it it's\", 'not gonna be the others just', \"it's like the word spiral would be\", 'turning right so that that makes sense', \"no let's go for period are you sure yes\", 'okay Chris', \"we're gonna go for Pruett my love yes so\", 'write down so you got 4,000 pound', \"nobody sure but you're getting there\", 'each time which is good', 'have a look animate this for 8,000', 'pounds which of these American cities is', 'a port in Texas Houston Salt Lake City', 'Denver Phoenix', \"okay it's none of the others are in\", \"Texas I didn't know as a port its\", 'Houston by lonesome', \"it's the right time to go 10,000 pound\", 'feeling better yet a little bit it helps', 'you find the money going up does help me', 'your 232,000 you still have those two', \"lifelines intact you haven't found a\", 'friendlier and he got a 50/50 mister for', 'sixteen thousand who played Bolton in', 'the 1980 film Flash Gordon Albert Finney', 'Brian Blessed David Hemmings Oliver Reed', \"I think I know but I think I'd like to\", '50/50 it what do you think it is you', \"think I think it's Brian blessed I have\", 'no idea 50 5050 said that helps you', 'super fund a friend if you need it you', 'can still take eight thousand pounds', 'away right compared to take away', 'cheering us please leave louis engrave', 'the right answer and one random', \"remaining here on Hanson he's still\", 'there', 'every full of reason Brian place final', 'answer but if Brian Plus had come from', \"in your Brian I don't know I don't know\", 'what could it not be Oliver it I just', \"don't remember him being in anything but\", \"vaguely remember the film it's the right\", 'time so you got succeed', \"my hero Captain America spider-man it's\", 'you Superman Lois Lois Lane', \"you got 16,000 you've still gotta find a\", \"friend you're one away from 32,000\", 'pounds', \"here it comes you're six away from a\", 'million this question number 10 of a', 'possible 15 Ludvig Carroll famously', 'cataloged the works of which composer', 'Mozart Beethoven', 'vogner handle I have absolutely no first', 'name Rick yeah but this is a person that', \"catalogued so it's a man he's a man\", \"who's who's the man\", 'Lewis Lewis is the man yes Louis says', \"Lewis where's Lewis\", 'now Louis yeah', \"hi it's Kristin oh good evening Tamron\", \"we're on Who Wants to Be a Millionaire\", \"Louis Greg and Louis are here they're in\", 'the chair there on the show great', \"they're doing fine but they're stuck on\", 'a particular question worth 16,000', 'pounds right next verse here will be', 'great to tailor the question there are', 'four possible answers one of these is', 'the right answer', 'yeah okay right great 30 seconds good', 'luck your time starts now', \"Ludwig Coco that's ko CH il famously\", 'catalogued the works of which composer', \"Mozart Beethoven Wagner or handle that's\", 'Ludwig Coco KLC HDL did you have the', 'names again Mozart Beethoven Wagner', 'handle right the key wants it okay Oh', 'Louis I am got clearance', \"okay it'd just be a wild guess otherwise\", \"we take the money I'll take the money\", 'final answer final answer Taylor might', 'give a big hand they go away sixteen', \"thousand I can't sell it awhile to\", 'actually watch Mozart', 'Gregg and Louis Allen went away with', \"16,000 pounds it doesn't mean it's time\", 'for our 8 remaining newlyweds to play', 'fastest finger first again remember for', 'answers only one correct order get the', 'order right in the past this time and', \"you'll be next tonight the play for 1\", 'million pounds here comes the question', 'put these French cities in order from', 'north to south', 'Leon Rouen nice Calais', \"so let's have a look we have eight\", \"couples left let's have a look at the\", 'right order then we want the farthest', 'north first going down to the south', 'Calais farthest north then dat rule then', 'down to Leon and then right down the', \"south isn't he so that's the right order\", \"now let's have a look eight remaining\", \"who got it right then we find out who's\", 'faster', 'these were right who was fastest Paul', 'and Sheila were right in six point six', 'one second', 'now', 'nice and comfy here we have Paul Kelly a', 'former RAF electrician from Preston in', \"Lancashire and his wife Sheila who's a\", \"nurse Paul's semi-retired through ill\", 'health and as a result spends a lot of', 'time at home Paul says he called the', 'show because he just fancied a day out', 'of the house but he also missed some', 'money would be very nice and very handy', 'Sheila grew up in Fife and with a big', 'win tonight would love a big house back', \"in Scotland she's also been incredibly\", 'lucky in the past she says she won both', 'her wedding dress and wedding reception', 'in a draw at a bridal fair much to the', 'delight of her dad Ian who she herself', \"says he's a very careful Scots you'll\", 'love you for that one okay now you met', 'Paul before he became ill but you then', 'spent an awful lot of time traveling and', 'we never tell me had a day off you went', 'to see him and as he got worse really', \"yeah but you're here now just for fun\", \"really haven't had a lot of fun lately\", 'great deal are you feeling all right you', 'feeling up to this', \"and well I'm a bit nervous but I mean we\", \"can't say it has been very rough on poor\", \"but he's he is now in remission yes and\", 'hopefully fingers crossed when do you', 'think you should have some some good', 'news being a few weeks time really okay', 'well fingers crossed about what would be', 'realistically for you two what would be', 'a really handy sum of money to take home', \"well 6064 it's clear the market so I\", \"think you're big then 16 and give us a\", \"new car each yeah but presumably can't\", 'drive her than that McKenna you know', 'detached retina yeah but but again could', 'that be corrected and you you you could', 'drive yeah just kind of settle down yeah', 'okay its fingers crossed', 'at this moment Paul and Sheila are just', '15 correct answers away from winning 1', 'million pounds', 'now they have three brand-new life plans', 'to help them if they get stuck not to', \"like let's play Who Wants to Be a\", 'Millionaire', 'you ready pull yep Sheila yeah okay', \"we're going in question number one it's\", 'for 100 pounds here it comes', 'which of these is a name for someone who', 'likes to be very helpful in order to', 'please people', 'goody one hat goody two shoes goody', 'three scarves goody for belts goody two', 'shoes so right on so you got 100 pounds', 'okay you have to agree on your final', 'answers each time and which lifeline if', 'you need any you want to use question', 'number 200 quick if you threaten to', 'punish someone you were said to have', 'their guts for what shoelaces belts', 'garters necklaces cactus', \"it's right out so you got to in the past\", \"so Paul even though you've been ill\", \"who's in charge in the house do you on\", 'some decisions that was a delegate well', 'okay you got two hundred pounds this is', 'for the three hundred in the Bible which', 'Archangels foretold to Mary that she', 'would give birth torrontés Gordon George', 'Gabriel final answer', \"yeah it's right answer number four is\", 'for five hundred quid here it comes', 'in which country is the TV soap home and', 'away and said why are you looking at me', 'like that because what she says', \"religiously everything it's quality\", 'television yeah right well what do you', 'wanna see come up Australia okay is it', 'Australia Scotland Canada or USA', \"Australia Australia it's right auntie\", 'got', 'so you having a nice day out yet you', 'said you want the day away from the', 'house you enjoying it yes thank you', 'okay you got five and a good last point', 'you might enjoy this if it went wrong', 'you could lose the lot II could go with', \"nothing but I'm sure you will get to\", '1,000 pounds question number five book', 'guarantee you have all three lifelines', 'what is the first name of the novelist', 'son of Kingsley Amos Murray Melvin', 'Martin Mitchell', 'I think I think', 'you sure such it but yeah', 'final answer you got a thousand pounds', \"we'll play\", 'now you start to enjoy it better gets', 'better wait you guaranteed a thousand', \"pairs to go home you've got a three\", 'lifelines intact you have no problem at', \"all so far you're ten away from a\", 'million this is question number six the', 'Monday Club was founded as a group', 'within which political party labor', 'Liberal Democrat conservative plied', 'Kumari', 'the monthly Club', 'I think people heard it', 'what you think', 'maybe the Conservatives know best', 'glass coatings are sealians okay', \"audience let's get you on your computer\", \"keepers please let's get Sheila and Paul\", \"up to 2,000 pounds that's the question\", 'the Monday club was founded as a group', 'within which political party now a B C', \"or D it's worth two thousand pounds all\", 'vote now', '60% are saying conservative nobody', 'thinks D 24% labour 16% liberal dunno', 'you said you had an inkling might be', 'conservative John did we play that', \"conservative sure Sheila you're looking\", 'worried hey being a cautious Scottish', 'person cautious mikandi what was it no', \"careful but cut don't play this one\", 'month by month yeah', '60% of this audience are absolutely', 'spot-on you got 2,000 pounds']\n"
     ]
    }
   ],
   "source": [
    "import re\n",
    "\n",
    "text = transcript_df.iloc[0]\n",
    "\n",
    "test_script = YouTubeTranscriptApi.get_transcript(transcript_df.iloc[0].yt_id)\n",
    "test_script = \n",
    "\n",
    "print(test_script)\n",
    "# x = \"\".join(re.split(\"\\(|\\)|\\[|\\]\", x)[::2])"
   ]
  },
  {
   "cell_type": "code",
   "execution_count": 79,
   "metadata": {},
   "outputs": [],
   "source": [
    "for index, row in transcript_df.iterrows():\n",
    "    text = YouTubeTranscriptApi.get_transcript(row[\"yt_id\"])\n",
    "    text = [i[\"text\"] for i in text if \"[\" not in i[\"text\"]]\n",
    "    with open(f\"transcripts/transcript_{index+1}.txt\", 'w') as f:\n",
    "        f.write(f\"Status: Incomplete\\n\")\n",
    "        f.write(f\"YouTube Link: {row['youtube_link']}\\n\")\n",
    "        f.write(f\"Potential Annotation Options:\\n\")\n",
    "        f.write(f\"[agreement] [offer-answer] [chit-chat] [accept-answer] [final-answer] [confidence] [offer-agreement]\\n\")\n",
    "        f.write(\"\\n\\n\\n\")\n",
    "        f.write(\"-------- Transcript --------\\n\\n\")\n",
    "        for line in text:\n",
    "            f.write(f\"U1: {line} []\\n\")"
   ]
  }
 ],
 "metadata": {
  "kernelspec": {
   "display_name": "Python 3",
   "language": "python",
   "name": "python3"
  },
  "language_info": {
   "codemirror_mode": {
    "name": "ipython",
    "version": 3
   },
   "file_extension": ".py",
   "mimetype": "text/x-python",
   "name": "python",
   "nbconvert_exporter": "python",
   "pygments_lexer": "ipython3",
   "version": "3.10.7"
  },
  "orig_nbformat": 4,
  "vscode": {
   "interpreter": {
    "hash": "f9c4317fb4c0bcd22c37535845f14af50b164d23d0409d29c3259dbf20f1ce70"
   }
  }
 },
 "nbformat": 4,
 "nbformat_minor": 2
}
