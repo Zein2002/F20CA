{
 "cells": [
  {
   "cell_type": "code",
   "execution_count": null,
   "metadata": {},
   "outputs": [],
   "source": [
    "%pip install youtube-transcript-api\n",
    "from youtube_transcript_api import YouTubeTranscriptApi"
   ]
  },
  {
   "cell_type": "code",
   "execution_count": 22,
   "metadata": {},
   "outputs": [],
   "source": [
    "import pandas as pd\n",
    "  \n",
    "# read text file into pandas DataFrame\n",
    "df = pd.read_csv(\"youtube_ids.txt\", sep=\" \")\n",
    "\n",
    "df[\"yt_id\"] = df[\"youtube_link\"].str.split(\"v=\").str.get(1)\n",
    "\n",
    "id_array = df[\"yt_id\"].to_numpy()"
   ]
  },
  {
   "cell_type": "code",
   "execution_count": 43,
   "metadata": {},
   "outputs": [],
   "source": [
    "count = 0\n",
    "for i in id_array:\n",
    "    try: \n",
    "        text = YouTubeTranscriptApi.get_transcript(i)\n",
    "        df.loc[df[\"yt_id\"] == i, \"transcript\"]= True\n",
    "    except:\n",
    "        df.loc[df[\"yt_id\"] == i, \"transcript\"]= False\n",
    "\n",
    "    "
   ]
  },
  {
   "cell_type": "code",
   "execution_count": 46,
   "metadata": {},
   "outputs": [],
   "source": [
    "transcript_df = df.loc[df[\"transcript\"] == True]\n",
    "transcript_df = transcript_df.reset_index(drop=True)"
   ]
  },
  {
   "cell_type": "code",
   "execution_count": 99,
   "metadata": {},
   "outputs": [],
   "source": [
    "for index, row in transcript_df.iterrows():\n",
    "    text = YouTubeTranscriptApi.get_transcript(row[\"yt_id\"])\n",
    "    text = [i[\"text\"] for i in text if \"[\" not in i[\"text\"]]\n",
    "    with open(f\"transcripts/transcript_{index+1}.txt\", 'w') as f:\n",
    "        f.write(f\"Transcribed by: \\n\")\n",
    "        f.write(f\"Status: Incomplete\\n\")\n",
    "        f.write(f\"YouTube Link: {row['youtube_link']}\\n\\n\")\n",
    "        f.write(f\"Dialogue Annotation Options:\\n\")\n",
    "        f.write(f\"[question()] [offer-answer()] [options()] [offer-to-answer] [check-answer] [agreement] [ask-agreement] [chit-chat]\\n[accept-answer] [final-answer()] [confirm-agreement] [confirm-final-answer]\\n\\n\")\n",
    "        f.write(f\"User/System Format:\\n\")\n",
    "        f.write(f\"U1: User 1 | U2: User 2 | S: System\\n\")\n",
    "        f.write(\"\\n\\n\\n\")\n",
    "        f.write(\"-------- Transcript --------\\n\\n\")\n",
    "        for line in text:\n",
    "            f.write(f\"U1: {line} []\\n\")"
   ]
  }
 ],
 "metadata": {
  "kernelspec": {
   "display_name": "F21BC",
   "language": "python",
   "name": "python3"
  },
  "language_info": {
   "codemirror_mode": {
    "name": "ipython",
    "version": 3
   },
   "file_extension": ".py",
   "mimetype": "text/x-python",
   "name": "python",
   "nbconvert_exporter": "python",
   "pygments_lexer": "ipython3",
   "version": "3.9.13"
  },
  "orig_nbformat": 4,
  "vscode": {
   "interpreter": {
    "hash": "e301f179994a6cc4696bb1a697aabf365a0e561b8ee640f0fafd7f18f35040ab"
   }
  }
 },
 "nbformat": 4,
 "nbformat_minor": 2
}
